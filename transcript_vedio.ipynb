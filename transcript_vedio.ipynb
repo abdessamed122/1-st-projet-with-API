{
  "nbformat": 4,
  "nbformat_minor": 0,
  "metadata": {
    "colab": {
      "provenance": [],
      "authorship_tag": "ABX9TyM5CzCh9S9QYn9MIGgcdjis",
      "include_colab_link": true
    },
    "kernelspec": {
      "name": "python3",
      "display_name": "Python 3"
    },
    "language_info": {
      "name": "python"
    }
  },
  "cells": [
    {
      "cell_type": "markdown",
      "metadata": {
        "id": "view-in-github",
        "colab_type": "text"
      },
      "source": [
        "<a href=\"https://colab.research.google.com/github/abdessamed122/1-st-projet-with-API/blob/main/transcript_vedio.ipynb\" target=\"_parent\"><img src=\"https://colab.research.google.com/assets/colab-badge.svg\" alt=\"Open In Colab\"/></a>"
      ]
    },
    {
      "cell_type": "code",
      "source": [
        "!pip install groq pytube youtube-transcript-api\n",
        "!pip install yt_dlp\n",
        "\n",
        "\n"
      ],
      "metadata": {
        "colab": {
          "base_uri": "https://localhost:8080/"
        },
        "id": "AqwenHyRMtrr",
        "outputId": "0d6774d7-d359-4272-b6c4-fe5af6326290"
      },
      "execution_count": 10,
      "outputs": [
        {
          "output_type": "stream",
          "name": "stdout",
          "text": [
            "Requirement already satisfied: groq in /usr/local/lib/python3.11/dist-packages (0.22.0)\n",
            "Requirement already satisfied: pytube in /usr/local/lib/python3.11/dist-packages (15.0.0)\n",
            "Requirement already satisfied: youtube-transcript-api in /usr/local/lib/python3.11/dist-packages (1.0.3)\n",
            "Requirement already satisfied: anyio<5,>=3.5.0 in /usr/local/lib/python3.11/dist-packages (from groq) (4.9.0)\n",
            "Requirement already satisfied: distro<2,>=1.7.0 in /usr/local/lib/python3.11/dist-packages (from groq) (1.9.0)\n",
            "Requirement already satisfied: httpx<1,>=0.23.0 in /usr/local/lib/python3.11/dist-packages (from groq) (0.28.1)\n",
            "Requirement already satisfied: pydantic<3,>=1.9.0 in /usr/local/lib/python3.11/dist-packages (from groq) (2.11.1)\n",
            "Requirement already satisfied: sniffio in /usr/local/lib/python3.11/dist-packages (from groq) (1.3.1)\n",
            "Requirement already satisfied: typing-extensions<5,>=4.10 in /usr/local/lib/python3.11/dist-packages (from groq) (4.13.0)\n",
            "Requirement already satisfied: defusedxml<0.8.0,>=0.7.1 in /usr/local/lib/python3.11/dist-packages (from youtube-transcript-api) (0.7.1)\n",
            "Requirement already satisfied: requests in /usr/local/lib/python3.11/dist-packages (from youtube-transcript-api) (2.32.3)\n",
            "Requirement already satisfied: idna>=2.8 in /usr/local/lib/python3.11/dist-packages (from anyio<5,>=3.5.0->groq) (3.10)\n",
            "Requirement already satisfied: certifi in /usr/local/lib/python3.11/dist-packages (from httpx<1,>=0.23.0->groq) (2025.1.31)\n",
            "Requirement already satisfied: httpcore==1.* in /usr/local/lib/python3.11/dist-packages (from httpx<1,>=0.23.0->groq) (1.0.7)\n",
            "Requirement already satisfied: h11<0.15,>=0.13 in /usr/local/lib/python3.11/dist-packages (from httpcore==1.*->httpx<1,>=0.23.0->groq) (0.14.0)\n",
            "Requirement already satisfied: annotated-types>=0.6.0 in /usr/local/lib/python3.11/dist-packages (from pydantic<3,>=1.9.0->groq) (0.7.0)\n",
            "Requirement already satisfied: pydantic-core==2.33.0 in /usr/local/lib/python3.11/dist-packages (from pydantic<3,>=1.9.0->groq) (2.33.0)\n",
            "Requirement already satisfied: typing-inspection>=0.4.0 in /usr/local/lib/python3.11/dist-packages (from pydantic<3,>=1.9.0->groq) (0.4.0)\n",
            "Requirement already satisfied: charset-normalizer<4,>=2 in /usr/local/lib/python3.11/dist-packages (from requests->youtube-transcript-api) (3.4.1)\n",
            "Requirement already satisfied: urllib3<3,>=1.21.1 in /usr/local/lib/python3.11/dist-packages (from requests->youtube-transcript-api) (2.3.0)\n",
            "Requirement already satisfied: yt_dlp in /usr/local/lib/python3.11/dist-packages (2025.3.31)\n"
          ]
        }
      ]
    },
    {
      "cell_type": "code",
      "source": [
        "import re\n",
        "from youtube_transcript_api import YouTubeTranscriptApi\n",
        "\n",
        "# استخدام واجهة YouTubeTranscriptAPI لجلب الترجمة\n",
        "def get_transcript(video_id):\n",
        "    transcript = YouTubeTranscriptApi.get_transcript(video_id)\n",
        "      # transcript = YouTubeTranscriptApi.get_transcript(video_id)\n",
        "\n",
        "    return transcript\n",
        "\n",
        "# دمج النصوص بحيث يحتوي كل نص على 60 كلمة مع الحفاظ على التوقيت\n",
        "def merge_texts_to_60_words(transcript, max_words_per_text=90):\n",
        "    merged_texts = []\n",
        "    current_text = []\n",
        "    current_word_count = 0\n",
        "    current_start_time = None\n",
        "\n",
        "    for entry in transcript:\n",
        "        text = entry['text']\n",
        "        words = text.split()\n",
        "\n",
        "        for word in words:\n",
        "            if current_word_count == 0:\n",
        "                current_start_time = entry['start']  # تحديد وقت البدء لأول كلمة من النص\n",
        "            current_text.append(word)\n",
        "            current_word_count += 1\n",
        "\n",
        "            # إذا وصلنا إلى 60 كلمة، نقوم بإضافة النص المدمج\n",
        "            if current_word_count >= max_words_per_text:\n",
        "                merged_texts.append((current_start_time, \" \".join(current_text)))\n",
        "                current_text = []  # إعادة تعيين النص المدمج\n",
        "                current_word_count = 0\n",
        "\n",
        "    # إذا تبقى نص غير مكتمل يحتوي على أقل من 60 كلمة، نضيفه أيضًا\n",
        "    if current_text:\n",
        "        merged_texts.append((current_start_time, \" \".join(current_text)))\n",
        "\n",
        "    return merged_texts\n",
        "\n",
        "# تنسيق الترجمة مع التوقيت\n",
        "def format_transcript_with_time(transcript):\n",
        "    formatted_transcript = []\n",
        "\n",
        "    merged_texts = merge_texts_to_60_words(transcript)\n",
        "\n",
        "    for start_time, text in merged_texts:\n",
        "        # تحويل الوقت إلى صيغة (00:00:00)\n",
        "        minutes, seconds = divmod(start_time, 60)\n",
        "        hours, minutes = divmod(minutes, 60)\n",
        "        formatted_time = f\"{int(hours):02}:{int(minutes):02}:{int(seconds):02}\"\n",
        "\n",
        "        # إضافة التوقيت والنص\n",
        "        formatted_transcript.append(f\"{formatted_time}\\n{text}\")\n",
        "\n",
        "    return \"\\n\\n\".join(formatted_transcript)\n",
        "\n",
        "# جلب الترجمة من الفيديو\n",
        "video_id = 'VjpY2cETzy4'  # أدخل هنا الـ video ID\n",
        "transcript = get_transcript(video_id)\n",
        "\n",
        "# تنسيق الترجمة مع التوقيت\n",
        "formatted_transcript = format_transcript_with_time(transcript)\n",
        "print(formatted_transcript)\n"
      ],
      "metadata": {
        "colab": {
          "base_uri": "https://localhost:8080/"
        },
        "id": "_NOl64ctFXB1",
        "outputId": "593703b3-4e94-45fa-aad5-52ebc073132c"
      },
      "execution_count": 21,
      "outputs": [
        {
          "output_type": "stream",
          "name": "stdout",
          "text": [
            "00:00:00\n",
            "I'm sure you've seen YouTube channels like this before with thousands and millions of subscribers and Views with no face or no person behind the brand and no voice these channels are known as YouTube automation or also known as YouTube faceless channels I'm going to break down exactly how you can start your own YouTube channel automation business today now most people fail when it comes to this type of business for three reasons the first is from burnout the second is through not using the right tools and\n",
            "\n",
            "00:00:27\n",
            "the third is from not being consistent which is why I'm here with you today to give you the tools needed to make sure that you can turn your Ambitions into a success but without further Ado let's jump straight into it now the first thing I want to do which is extremely important as that's ultimately where the money is going to come from is understand the YouTube terminology and what each term means in terms of YouTube automation now the first one is CPM cost per milk this\n",
            "\n",
            "00:00:51\n",
            "is a metric which represents how much advertisers are willing to pay to show as on YouTube now this is not how much you make from 1K views RPM Revenue per Mill now this is how much you make per 1,000 views now the next one is watch time which in my opinion is probably the most important analytic when it comes to YouTube and on the YouTube Studio it's also known as audience retention and this is the total aggregate time that viewers spend on your video and the\n",
            "\n",
            "00:01:25\n",
            "final one is CTR which is Click through rate this represents how often people watch a video after seeing its thumbnail YouTube has over 2 billion users it's a gold mine for businesses and creators Alik but there's also a lot of channels out there and it's hard to stand out but if you want to become the cream of the crop you'll need to be smart and efficient when it comes to your YouTube channel and this is where automation comes in now when it comes to YouTube Automation\n",
            "\n",
            "00:01:52\n",
            "and when people discuss the process it usually means you know giving away different tasks to different Freelancers for example having a script writer a YouTube editor a thumbnail Creator a voice over person but you know to begin this can be expensive as you're going to have to find people on Fiverr up work etc and actually pay them to do this now I don't recommend starting this way as it can be expensive and when you first start YouTube it's important to you know test it and start\n",
            "\n",
            "00:02:21\n",
            "actually posting videos before you you know start building a team and this is where automation comes in as it's a lot cheaper to begin and once you start generating income you can easily start Outsourcing this to real Freelancers but to get started I have a list of six free tools that are going to allow you to start creating YouTube videos automatically now when I say automatically I don't mean you're just going to press 1 2 3 4 and a YouTube video is created but what we're\n",
            "\n",
            "00:02:47\n",
            "looking for is to be able to create YouTube videos relatively quickly and efficiently using the help of AI but like any business guys you're going to actually have to take action you're going to have to do some research and make sure that your videos are good quality so if you're expecting something like this it's not going to happen guys but trust me it's worth it now let's jump into it now we're going to need a film editing software and the ones I recommend just to begin\n",
            "\n",
            "00:03:11\n",
            "are cap cut and film morea for video thumbnails we're going to use canva for video thumbnails and video animations we're going to use vid IQ to research and understand our Niche then we're going to use chat gbt to actually write a video script for us and then finally we're going to to use websites such as pixel Bay for stock videos sound effects soundtracks Etc now the first thing we want to do before anything is pick a niche now there are endless niches on YouTube and you\n",
            "\n",
            "00:03:39\n",
            "know it can be overwhelming when it comes to actually picking one now obviously over time we're going to automate the process footy and have a team running our Channel but to begin with it's important that we understand the niche that we're going into and actually do some research now you don't have to pick one based on passion but it might help you just at the beginning to actually pick something that you have a passion or interest in some of the best niches right now are business\n",
            "\n",
            "00:04:06\n",
            "and finance philosophy education marketing tech-based relationship advice and crypto and here are some that you have to avoid meditation rain sounds reaction videos comedy compilations movie compilations top 10 and sports now each Niche has different cpms and RPMs but do not change your Niche because you've seen else swear that someone's getting a really high CPM or RPM you should pick your Niche based on your long-term Vision you know if you see a gap in the market or you have a vision for the type of videos\n",
            "\n",
            "00:04:38\n",
            "that you can bring to an audience it's much better for you to get 500,000 views on a video than 10,000 views on a very high competitive Niche now guys just a quick one if you haven't joined my Discord make sure you do so it's in my description where I'm building a community of like-minded people who are trying to better their lives build online businesses and grow every day okay so you've picked your Niche it's time to do some research and understand the niche and your competitors\n",
            "\n",
            "00:05:04\n",
            "and what I would recommend here is start looking at some channels start bookmarking them and start looking at what videos on their channels have been the most popular simply press the popular button on a YouTube channel and it will tell you all of their popular videos in order you know start understanding the you know psychology the analytics of their Channel why have these videos done the best is it the thumbnail is it the titles that they' used and this will give you so much Direction when\n",
            "\n",
            "00:05:28\n",
            "you're creating or thinking about your videos you can also use a website called social blade just to see the performance of certain YouTube channels and you can also see how much they're making Etc okay so you have an idea of what the competitors are doing it's time to actually start now I recommend not using Freelancers to write your scripts simply use chat GPT and let me show you exactly how you can do that okay so you've got your chat GPT open if you haven't created an\n",
            "\n",
            "00:05:52\n",
            "account already definitely make one it's free and it's so useful but let's create our scripts now let's say that I want to do a horror based Channel which talks about serial killers I'm going to ask Chach BT to create me a script about that create me a script for a YouTube channel which is about horror stories the title of this video is going to be top three serial killers based in London England let's see what it comes up with now as you can see it's literally\n",
            "\n",
            "00:06:36\n",
            "creating the entire script for you for free and there we have it a script in less than 30 seconds we have a script for our video okay now I have my script now what we want to do is actually get an AI to say our script and I've used clipchamp for a long time and it's free so let me show you exactly how you can do that now go to clipchamp and create a free account so now we've got click champ open what we want to\n",
            "\n",
            "00:07:00\n",
            "do is go to text to speech so what I'm going to do is go back to my script I'm going to copy this first bit here and there you go now I'm going to do language United States I'm going to do let's do a guy I'm going to do guy I'm going to do let's do General and obviously you just need to play around with it but the fact that that this is free is insane and it allows you to just get started so what we're\n",
            "\n",
            "00:07:32\n",
            "going to do is just press save to media and we and that's literally done now what we can do is export that and perfect now once you happy with your AI voice over for your video you can export this over to a video editing software like capcut or use an AI editor such as clip Champs Auto composer you can Source footage for your videos from places like pixel bit and you have a bunch of different options that you can choose from you can simply find footage\n",
            "\n",
            "00:07:57\n",
            "that matches the theme of your video so for example if your video is about ancient Egypt you can find content or free videos that fit that and start creating your videos simply through that Guys these are two free tools for you to literally create the main part of your video now finally for the thumbnail what we want to do is go to our good friend canva and on canva there are thousands of templates that you can get started with and there are so many videos on\n",
            "\n",
            "00:08:22\n",
            "YouTube and elsewhere that teach you how to create a thumbnail or you know you can use AI such as mid Journey Etc if you have ideas about what type of thumbnail you want for the purpose of this video and to keep things simple I'm not going to dive into it as most of us know how to use canva and you can simply look at competitors how they're doing their thumbnails and try something similar remember Guys YouTube cares about four things the first is audience retention the\n",
            "\n",
            "00:08:46\n",
            "second is Click through rate then watch time and then finally session time when creating your videos always remember these four components as is as it's important when you're creating your videos to put yourself in the consumer's shoes you know try and keep the videos fastpaced try and keep the viewers engaged so that they watch the whole video so you know chat gbt script you know you can make edits to it if you want to add certain bits to keep the viewers hooked but you you've seen\n",
            "\n",
            "00:09:11\n",
            "how quick that was to kind of put everything together but guys you can see that this is a multi-step process there are so many tools out there right now YouTube automation is a possibility but success is not going to come overnight like everything in life everything requires time and effort but in terms of the potential if you're able to be consistent and avoid burnout the potential is endless and it's one of the best side hustles out there right now let me know in the comment section\n",
            "\n",
            "00:09:36\n",
            "your thoughts on the video and if you'd like me to create a whole series on this topic guys make sure you join my Discord drop me a like And subscribe my name is Alex let's grow\n"
          ]
        }
      ]
    }
  ]
}